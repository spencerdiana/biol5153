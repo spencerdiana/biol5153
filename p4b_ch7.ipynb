{
 "cells": [
  {
   "cell_type": "code",
   "execution_count": 2,
   "metadata": {
    "collapsed": false
   },
   "outputs": [
    {
     "name": "stdout",
     "output_type": "stream",
     "text": [
      "restriction site found!\n"
     ]
    }
   ],
   "source": [
    "import re\n",
    "\n",
    "dna = \"ATCGCGAATTCAC\"\n",
    "if re.search(r\"GAATTC\", dna):\n",
    "    print(\"restriction site found!\")\n",
    "    "
   ]
  },
  {
   "cell_type": "code",
   "execution_count": 8,
   "metadata": {
    "collapsed": true
   },
   "outputs": [],
   "source": [
    "dna = \"ATCGCGAATTCAC\"\n",
    "if re.search(r\"GGACC\", dna) or re.search(r\"GGTCC\", dna):\n",
    "    print(\"restriction site found!\")"
   ]
  },
  {
   "cell_type": "code",
   "execution_count": 5,
   "metadata": {
    "collapsed": true
   },
   "outputs": [],
   "source": [
    "dna = \"ATCGCGAATTCAC\"\n",
    "if re.search(r\"GG(A|T)CC\", dna):\n",
    "    print(\"restriction site found!\")"
   ]
  },
  {
   "cell_type": "code",
   "execution_count": 9,
   "metadata": {
    "collapsed": true
   },
   "outputs": [],
   "source": [
    "dna = \"ATCGCGAATTCAC\"\n",
    "if re.search(r\"GC(A|T|G|C)GC\", dna):\n",
    "    print(\"restriction site found!\")\n",
    "    "
   ]
  },
  {
   "cell_type": "code",
   "execution_count": 10,
   "metadata": {
    "collapsed": true
   },
   "outputs": [],
   "source": [
    "dna = \"ATCGCGAATTCAC\"\n",
    "if re.search(r\"GC[ATGC]GC\", dna):\n",
    "    print(\"restriction site found!\")\n",
    "    "
   ]
  },
  {
   "cell_type": "code",
   "execution_count": 11,
   "metadata": {
    "collapsed": false
   },
   "outputs": [
    {
     "name": "stdout",
     "output_type": "stream",
     "text": [
      "GACGTAC\n"
     ]
    }
   ],
   "source": [
    "dna = \"ATGACGTACGTACGACTG\"\n",
    "# store the match object in the variable m\n",
    "m = re.search(r\"GA[ATGC]{3}AC\", dna)\n",
    "print(m.group())"
   ]
  },
  {
   "cell_type": "code",
   "execution_count": 12,
   "metadata": {
    "collapsed": false
   },
   "outputs": [
    {
     "name": "stdout",
     "output_type": "stream",
     "text": [
      "entire match: GACGTACGTAC\n",
      "first bit: CGT\n",
      "second bit: GT\n"
     ]
    }
   ],
   "source": [
    "dna = \"ATGACGTACGTACGACTG\"\n",
    "# store the match object in the variable m\n",
    "m = re.search(r\"GA([ATGC]{3})AC([ATGC]{2})AC\", dna)\n",
    "print(\"entire match: \" + m.group())\n",
    "print(\"first bit: \" + m.group(1))\n",
    "print(\"second bit: \" + m.group(2))"
   ]
  },
  {
   "cell_type": "code",
   "execution_count": 13,
   "metadata": {
    "collapsed": false
   },
   "outputs": [
    {
     "name": "stdout",
     "output_type": "stream",
     "text": [
      "start: 2\n",
      "end: 13\n"
     ]
    }
   ],
   "source": [
    "dna = \"ATGACGTACGTACGACTG\"\n",
    "m = re.search(r\"GA([ATGC]{3})AC([ATGC]{2})AC\", dna)\n",
    "print(\"start: \" + str(m.start()))\n",
    "print(\"end: \" + str(m.end()))\n"
   ]
  },
  {
   "cell_type": "code",
   "execution_count": 14,
   "metadata": {
    "collapsed": false
   },
   "outputs": [
    {
     "name": "stdout",
     "output_type": "stream",
     "text": [
      "start: 2\n",
      "end: 13\n",
      "group one start: 4\n",
      "group one end: 7\n",
      "group two start: 9\n",
      "group two end: 11\n"
     ]
    }
   ],
   "source": [
    "dna = \"ATGACGTACGTACGACTG\"\n",
    "m = re.search(r\"GA([ATGC]{3})AC([ATGC]{2})AC\", dna)\n",
    "print(\"start: \" + str(m.start()))\n",
    "print(\"end: \" + str(m.end()))\n",
    "print(\"group one start: \" + str(m.start(1)))\n",
    "print(\"group one end: \" + str(m.end(1)))\n",
    "print(\"group two start: \" + str(m.start(2)))\n",
    "print(\"group two end: \" + str(m.end(2)))"
   ]
  },
  {
   "cell_type": "code",
   "execution_count": 15,
   "metadata": {
    "collapsed": false
   },
   "outputs": [
    {
     "name": "stdout",
     "output_type": "stream",
     "text": [
      "['ACT', 'GCAT', 'GCTACGT', 'ACGAT', 'CGA', 'TCG']\n"
     ]
    }
   ],
   "source": [
    "dna = \"ACTNGCATRGCTACGTYACGATSCGAWTCG\"\n",
    "runs = re.split(r\"[^ATGC]\", dna)\n",
    "print(runs)"
   ]
  },
  {
   "cell_type": "code",
   "execution_count": 16,
   "metadata": {
    "collapsed": false
   },
   "outputs": [
    {
     "name": "stdout",
     "output_type": "stream",
     "text": [
      "['ATTATAT', 'AAATTATA']\n"
     ]
    }
   ],
   "source": [
    "dna = \"ACTGCATTATATCGTACGAAATTATACGCGCG\"\n",
    "runs = re.findall(r\"[AT]{4,100}\", dna)\n",
    "print(runs)"
   ]
  },
  {
   "cell_type": "code",
   "execution_count": 17,
   "metadata": {
    "collapsed": false
   },
   "outputs": [
    {
     "name": "stdout",
     "output_type": "stream",
     "text": [
      "AT rich region from 5 to 12\n",
      "AT rich region from 18 to 26\n"
     ]
    }
   ],
   "source": [
    "dna = \"ACTGCATTATATCGTACGAAATTATACGCGCG\"\n",
    "runs = re.finditer(r\"[AT]{3,100}\", dna)\n",
    "for match in runs:\n",
    "    run_start = match.start()\n",
    "    run_end = match.end()\n",
    "    print(\"AT rich region from \" + str(run_start) + \" to \" + str(run_end))"
   ]
  },
  {
   "cell_type": "code",
   "execution_count": 30,
   "metadata": {
    "collapsed": false
   },
   "outputs": [
    {
     "name": "stdout",
     "output_type": "stream",
     "text": [
      "\t45da\n",
      "\tde37dp\n"
     ]
    }
   ],
   "source": [
    "#Exercise Accession names\n",
    "\n",
    "accs = [\"xkn59438\", \"yhdck2\", \"eihd39d9\", \"chdsye847\", \"hedle3455\",\n",
    "\"xjhd53e\", \"45da\", \"de37dp\"]\n",
    "\n",
    "for acc in accs:\n",
    "    if re.search(r\"d[arp]$\", acc):\n",
    "        print(\"\\t\" + acc)"
   ]
  },
  {
   "cell_type": "code",
   "execution_count": 35,
   "metadata": {
    "collapsed": false
   },
   "outputs": [
    {
     "name": "stdout",
     "output_type": "stream",
     "text": [
      "18\n",
      "[0, 18]\n",
      "one fragment size is  18\n"
     ]
    }
   ],
   "source": [
    "#Exercise Double digest\n",
    "\n",
    "\n",
    "import re\n",
    "dna = open(\"dna.txt\").read().rstrip(\"\\n\")\n",
    "print(str(len(dna)))\n",
    "all_cuts = [0]\n",
    "\n",
    "# add cut positions for AbcI\n",
    "for match in re.finditer(r\"A[ATGC]TAAT\", dna):\n",
    "    all_cuts.append(match.start() + 3)\n",
    "\n",
    "# add cut positions for AbcII\n",
    "for match in re.finditer(r\"GC[AG][AT]TG\", dna):\n",
    "    all_cuts.append(match.start() + 4)\n",
    "\n",
    "# add the final position\n",
    "all_cuts.append(len(dna))\n",
    "sorted_cuts = sorted(all_cuts)\n",
    "print(sorted_cuts)\n",
    "\n",
    "for i in range(1,len(sorted_cuts)):\n",
    "    this_cut_position = sorted_cuts[i]\n",
    "    previous_cut_position = sorted_cuts[i-1]\n",
    "    fragment_size = this_cut_position - previous_cut_position\n",
    "    print(\"one fragment size is  \"  + str(fragment_size))"
   ]
  }
 ],
 "metadata": {
  "kernelspec": {
   "display_name": "Python 3",
   "language": "python",
   "name": "python3"
  },
  "language_info": {
   "codemirror_mode": {
    "name": "ipython",
    "version": 3
   },
   "file_extension": ".py",
   "mimetype": "text/x-python",
   "name": "python",
   "nbconvert_exporter": "python",
   "pygments_lexer": "ipython3",
   "version": "3.6.0"
  }
 },
 "nbformat": 4,
 "nbformat_minor": 2
}
