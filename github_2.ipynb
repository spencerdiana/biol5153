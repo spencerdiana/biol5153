{
 "cells": [
  {
   "cell_type": "code",
   "execution_count": 2,
   "metadata": {
    "collapsed": false
   },
   "outputs": [],
   "source": [
    "my_file = open(\"dna.txt\")"
   ]
  },
  {
   "cell_type": "code",
   "execution_count": 7,
   "metadata": {
    "collapsed": false
   },
   "outputs": [
    {
     "name": "stdout",
     "output_type": "stream",
     "text": [
      "<_io.TextIOWrapper name='dna.txt' mode='r' encoding='UTF-8'>\n"
     ]
    }
   ],
   "source": [
    "print(my_file)"
   ]
  },
  {
   "cell_type": "code",
   "execution_count": 3,
   "metadata": {
    "collapsed": false
   },
   "outputs": [
    {
     "name": "stdout",
     "output_type": "stream",
     "text": [
      "ACTGTACGTGCACTGATC\n",
      "\n"
     ]
    }
   ],
   "source": [
    "my_file = open(\"dna.txt\")\n",
    "file_contents = my_file.read()\n",
    "print(file_contents)"
   ]
  },
  {
   "cell_type": "code",
   "execution_count": 4,
   "metadata": {
    "collapsed": false
   },
   "outputs": [
    {
     "name": "stdout",
     "output_type": "stream",
     "text": [
      "sequence is ACTGTACGTGCACTGATC\n",
      " and length is 19\n"
     ]
    }
   ],
   "source": [
    "# open the file\n",
    "my_file = open(\"dna.txt\")\n",
    "# read the contents\n",
    "my_dna = my_file.read()\n",
    "# calculate the length\n",
    "dna_length = len(my_dna)\n",
    "# print the output\n",
    "print(\"sequence is \" + my_dna +  \" and length is \" + str(dna_length))\n"
   ]
  },
  {
   "cell_type": "code",
   "execution_count": 6,
   "metadata": {
    "collapsed": false
   },
   "outputs": [
    {
     "name": "stdout",
     "output_type": "stream",
     "text": [
      "sequence is ACTGTACGTGCACTGATC and length is 18\n"
     ]
    }
   ],
   "source": [
    "#using rstrip\n",
    "\n",
    "my_file = open(\"dna.txt\")\n",
    "my_file_contents = my_file.read()\n",
    "# remove the newline from the end of the file contents\n",
    "my_dna = my_file_contents.rstrip(\"\\n\")\n",
    "dna_length = len(my_dna)\n",
    "print(\"sequence is \" + my_dna +  \" and length is \" + str(dna_length))"
   ]
  },
  {
   "cell_type": "code",
   "execution_count": 8,
   "metadata": {
    "collapsed": false
   },
   "outputs": [
    {
     "ename": "FileNotFoundError",
     "evalue": "[Errno 2] No such file or directory: 'nonexistent.txt'",
     "output_type": "error",
     "traceback": [
      "\u001b[0;31m---------------------------------------------------------------------------\u001b[0m",
      "\u001b[0;31mFileNotFoundError\u001b[0m                         Traceback (most recent call last)",
      "\u001b[0;32m<ipython-input-8-0f5a58825b22>\u001b[0m in \u001b[0;36m<module>\u001b[0;34m()\u001b[0m\n\u001b[0;32m----> 1\u001b[0;31m \u001b[0mmy_file\u001b[0m \u001b[0;34m=\u001b[0m \u001b[0mopen\u001b[0m\u001b[0;34m(\u001b[0m\u001b[0;34m\"nonexistent.txt\"\u001b[0m\u001b[0;34m)\u001b[0m\u001b[0;34m\u001b[0m\u001b[0m\n\u001b[0m",
      "\u001b[0;31mFileNotFoundError\u001b[0m: [Errno 2] No such file or directory: 'nonexistent.txt'"
     ]
    }
   ],
   "source": [
    "my_file = open(\"nonexistent.txt\")"
   ]
  },
  {
   "cell_type": "code",
   "execution_count": 12,
   "metadata": {
    "collapsed": false
   },
   "outputs": [
    {
     "data": {
      "text/plain": [
       "11"
      ]
     },
     "execution_count": 12,
     "metadata": {},
     "output_type": "execute_result"
    }
   ],
   "source": [
    "my_file = open(\"out.txt\", \"w\")\n",
    "my_file.write(\"Hello world\")"
   ]
  },
  {
   "cell_type": "code",
   "execution_count": 18,
   "metadata": {
    "collapsed": false
   },
   "outputs": [
    {
     "data": {
      "text/plain": [
       "5"
      ]
     },
     "execution_count": 18,
     "metadata": {},
     "output_type": "execute_result"
    }
   ],
   "source": [
    "# write \"abcdef\"\n",
    "my_file.write(\"\\nabc\" + \"def\\n\")\n",
    "# write \"8\"\n",
    "my_file.write(str(len('AGTGCTAG')))\n",
    "# write \"TTGC\"\n",
    "my_file.write(\"\\nATGC\".replace('A', 'T'))\n",
    "# write \"atgc\"\n",
    "my_file.write(\"\\nATGC\".lower())\n"
   ]
  },
  {
   "cell_type": "code",
   "execution_count": 19,
   "metadata": {
    "collapsed": true
   },
   "outputs": [],
   "source": [
    "my_file = open(\"out.txt\", \"w\")\n",
    "my_file.write(\"Hello world\")\n",
    "# remember to close the file\n",
    "my_file.close()"
   ]
  },
  {
   "cell_type": "code",
   "execution_count": 38,
   "metadata": {
    "collapsed": false
   },
   "outputs": [
    {
     "data": {
      "text/plain": [
       "0"
      ]
     },
     "execution_count": 38,
     "metadata": {},
     "output_type": "execute_result"
    }
   ],
   "source": [
    "#Exercise: Splitting genomic DNA\n",
    "\n",
    "# open the file and read its contents\n",
    "dna_file = open(\"genomic_dna.txt\")\n",
    "my_dna = dna_file.read()\n",
    "\n",
    "# extract the different bits of DNA sequence\n",
    "exon1 = my_dna[0:62]\n",
    "intron = my_dna[62:90]\n",
    "exon2 = my_dna[90:10000]\n",
    "\n",
    "# open the two output files\n",
    "coding_file = open(\"coding_dna.txt\", \"w\")\n",
    "noncoding_file = open(\"noncoding_dna.txt\", \"w\")\n",
    "\n",
    "# write the sequences to the output files\n",
    "coding_file.write(exon1 + exon2)\n",
    "noncoding_file.write(intron)\n",
    "\n"
   ]
  },
  {
   "cell_type": "code",
   "execution_count": 43,
   "metadata": {
    "collapsed": false
   },
   "outputs": [
    {
     "name": "stdout",
     "output_type": "stream",
     "text": [
      "ABC123\n",
      "ATCGTACGATCGATCGATCGCTAGACGTATCG\n",
      "DEF456\n",
      "actgatcgacgatcgatcgatcacgact\n",
      "HIJ789\n",
      "ACTGAC-ACTGT--ACTGTA----CATGTG\n",
      ">ABC123\n",
      "ATCGTACGATCGATCGATCGCTAGACGTATCG\n",
      ">DEF456\n",
      "actgatcgacgatcgatcgatcacgact\n",
      ">HIJ789\n",
      "ACTGAC-ACTGT--ACTGTA----CATGTG\n",
      ">ABC123\n",
      "ATCGTACGATCGATCGATCGCTAGACGTATCG\n",
      ">DEF456\n",
      "ACTGATCGACGATCGATCGATCACGACT\n",
      ">HIJ789\n",
      "ACTGAC-ACTGT--ACTGTA----CATGTG\n",
      ">ABC123\n",
      "ATCGTACGATCGATCGATCGCTAGACGTATCG\n",
      ">DEF456\n",
      "ACTGATCGACGATCGATCGATCACGACT\n",
      ">HIJ789\n",
      "ACTGACACTGTACTGTACATGTG\n"
     ]
    },
    {
     "data": {
      "text/plain": [
       "32"
      ]
     },
     "execution_count": 43,
     "metadata": {},
     "output_type": "execute_result"
    }
   ],
   "source": [
    "#Exercise: Writing a FASTA file\n",
    "\n",
    "header_1 = \"ABC123\"\n",
    "header_2 = \"DEF456\"\n",
    "header_3 = \"HIJ789\"\n",
    "seq_1 = \"ATCGTACGATCGATCGATCGCTAGACGTATCG\" \n",
    "seq_2 = \"actgatcgacgatcgatcgatcacgact\" \n",
    "seq_3 = \"ACTGAC-ACTGT--ACTGTA----CATGTG\"\n",
    "\n",
    "print(header_1)\n",
    "print(seq_1)\n",
    "print(header_2)\n",
    "print(seq_2)\n",
    "print(header_3)\n",
    "print(seq_3)\n",
    "\n",
    "print('>' + header_1 + '\\n' + seq_1)\n",
    "print('>' + header_2 + '\\n' + seq_2)\n",
    "print('>' + header_3 + '\\n' + seq_3)\n",
    "\n",
    "print('>' + header_1 + '\\n' + seq_1)\n",
    "print('>' + header_2 + '\\n' + seq_2.upper())\n",
    "print('>' + header_3 + '\\n' + seq_3)\n",
    "\n",
    "print('>' + header_1 + '\\n' + seq_1)\n",
    "print('>' + header_2 + '\\n' + seq_2.upper())\n",
    "print('>' + header_3 + '\\n' + seq_3.replace('-',''))\n",
    "\n",
    "output = open(\"sequences.fasta\", \"w\")\n",
    "output.write('>' + header_1 + '\\n' + seq_1 + '\\n')\n",
    "output.write('>' + header_2 + '\\n' + seq_2.upper() + '\\n')\n",
    "output.write('>' + header_3 + '\\n' + seq_3.replace('-', '') + '\\n')"
   ]
  },
  {
   "cell_type": "code",
   "execution_count": 44,
   "metadata": {
    "collapsed": false
   },
   "outputs": [
    {
     "data": {
      "text/plain": [
       "33"
      ]
     },
     "execution_count": 44,
     "metadata": {},
     "output_type": "execute_result"
    }
   ],
   "source": [
    "#Exercise: Writing multiple FASTA files\n",
    "\n",
    "# set the values of all the header variables\n",
    "header_1 = \"ABC123\"\n",
    "header_2 = \"DEF456\"\n",
    "header_3 = \"HIJ789\"\n",
    "\n",
    "# set the values of all the sequence variables\n",
    "seq_1 = \"ATCGTACGATCGATCGATCGCTAGACGTATCG\"\n",
    "seq_2 = \"actgatcgacgatcgatcgatcacgact\"\n",
    "seq_3 = \"ACTGAC-ACTGT—ACTGTA----CATGTG\"\n",
    "\n",
    "# make three files to hold the output\n",
    "output_1 = open(header_1 + \".fasta\", \"w\")\n",
    "output_2 = open(header_2 + \".fasta\", \"w\")\n",
    "output_3 = open(header_3 + \".fasta\", \"w\")\n",
    "\n",
    "# write one sequence to each output file\n",
    "output_1.write('>' + header_1 + '\\n' + seq_1 + '\\n')\n",
    "output_2.write('>' + header_2 + '\\n' + seq_2.upper() + '\\n')\n",
    "output_3.write('>' + header_3 + '\\n' + seq_3.replace('-', '') + '\\n')"
   ]
  }
 ],
 "metadata": {
  "kernelspec": {
   "display_name": "Python 3",
   "language": "python",
   "name": "python3"
  },
  "language_info": {
   "codemirror_mode": {
    "name": "ipython",
    "version": 3
   },
   "file_extension": ".py",
   "mimetype": "text/x-python",
   "name": "python",
   "nbconvert_exporter": "python",
   "pygments_lexer": "ipython3",
   "version": "3.6.0"
  }
 },
 "nbformat": 4,
 "nbformat_minor": 2
}
